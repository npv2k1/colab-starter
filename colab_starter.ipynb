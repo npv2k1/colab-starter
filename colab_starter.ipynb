{
  "nbformat": 4,
  "nbformat_minor": 0,
  "metadata": {
    "colab": {
      "provenance": [],
      "gpuType": "T4",
      "authorship_tag": "ABX9TyO92jsl8PRokj2BLi/JFq0G",
      "include_colab_link": true
    },
    "kernelspec": {
      "name": "python3",
      "display_name": "Python 3"
    },
    "language_info": {
      "name": "python"
    }
  },
  "cells": [
    {
      "cell_type": "markdown",
      "metadata": {
        "id": "view-in-github",
        "colab_type": "text"
      },
      "source": [
        "<a href=\"https://colab.research.google.com/github/npv2k1/colab-starter/blob/main/colab_starter.ipynb\" target=\"_parent\"><img src=\"https://colab.research.google.com/assets/colab-badge.svg\" alt=\"Open In Colab\"/></a>"
      ]
    },
    {
      "cell_type": "code",
      "execution_count": null,
      "metadata": {
        "id": "sg101fOojHeA"
      },
      "outputs": [],
      "source": [
        "# Connect google drive to google colab\n",
        "from google.colab import drive\n",
        "drive.mount('/content/gdrive')"
      ]
    },
    {
      "cell_type": "code",
      "source": [
        "# Install openssh server\n",
        "!apt update ; apt install openssh-server\n",
        "!echo 'PermitRootLogin yes' >> /etc/ssh/sshd_config\n",
        "!mkdir /root/.ssh\n",
        "!echo 'ssh-rsa AAAAB3NzaC1yc2EAAAADAQABAAABgQCf9v5Zr+tbkFhAYaLiih5CkNjs8YjUNuy46AKUHy/RcLsxkJNoL3XJ1f+a5RpdmALJocJkQFGmf5eq39ZaY/vgezn7EuXiI+czb7eK+5Nq4Wj9jtUujuzVszZYN/dX5dmDR62/DN8ZyZbAwrimpPKnaqOywfIrP6mVpbuo855f75nT4sT1t0A8pJ4+Qi1TNOEmWngz2MlbVcSZW5nnTa+PL2l16uklX5QY50uD1NxgWcs0rae52tbBqm1vrpNihxC1jQ02xL6XmBYRhJQi67QAxmUE6vKseG3MHGESbrkjhbr+0L59nheSn26kCPuO23kjGRKtHw5Qc+2IR+E73foMQ61qCVN5WO8OyjxujJuLF4mEmu8u61rzttiaHmPn6RYYYtGXTFg7HmQcBLwDqppUejH4ku6xN/aSZFeJNMFs7wJcIJ1GvtC9bqtmhrbe1tdZNaGDjC+KHgE8YyN3fo5JYqDsIpXrX/FPKRsJtwYsce67r6D6Rxi2OS9fe6iyzVc= nguyen@DESKTOP-Nguyen' >/root/.ssh/authorized_keys\n",
        "!service ssh start"
      ],
      "metadata": {
        "id": "VJwPuLlEsdOr"
      },
      "execution_count": null,
      "outputs": []
    },
    {
      "cell_type": "code",
      "source": [
        "# Install tailscale VPN and save state to google drive\n",
        "!curl -fsSL https://tailscale.com/install.sh | sh\n",
        "!nohup sudo tailscaled --tun=userspace-networking --socks5-server=localhost:1055 --state=/content/gdrive/MyDrive/tailscaled.state --socket=/var/run/tailscale/tailscaled.sock --port 41641 &\n",
        "!until tailscale up; do sleep 1; done"
      ],
      "metadata": {
        "id": "HoEWazMzkOTc"
      },
      "execution_count": null,
      "outputs": []
    },
    {
      "cell_type": "code",
      "source": [
        "!tailscale ip"
      ],
      "metadata": {
        "id": "fceFRQlNwivp"
      },
      "execution_count": null,
      "outputs": []
    },
    {
      "cell_type": "code",
      "source": [
        "!nvidia-smi"
      ],
      "metadata": {
        "id": "VX2pj4yP1Sl5"
      },
      "execution_count": null,
      "outputs": []
    },
    {
      "cell_type": "markdown",
      "source": [
        "# Công cụ"
      ],
      "metadata": {
        "id": "gCkMaVPcVXt-"
      }
    },
    {
      "cell_type": "code",
      "source": [
        "# ============================= FORM ============================= #\n",
        "#@markdown Download file\n",
        "#@markdown\n",
        "url = \"https://az764295.vo.msecnd.net/stable/f1b07bd25dfad64b0167beb15359ae573aecd2cc/code-stable-x64-1696981541.tar.gz\" #@param {type:\"string\"}\n",
        "download_dir = \"/content/downloads/\" #@param {type:\"string\"}\n",
        "# ============================= FORM ============================= #\n",
        "\n",
        "import requests\n",
        "import os\n",
        "from tqdm import tqdm\n",
        "\n",
        "# Ensure the download directory exists\n",
        "os.makedirs(download_dir, exist_ok=True)\n",
        "\n",
        "# Extract the file name from the URL\n",
        "file_name = os.path.join(download_dir, url.split(\"/\")[-1])\n",
        "\n",
        "# Send an HTTP GET request to the URL\n",
        "response = requests.get(url, stream=True)\n",
        "\n",
        "# Check if the request was successful\n",
        "if response.status_code == 200:\n",
        "    # Get the total file size in bytes from the response headers\n",
        "    total_size = int(response.headers.get('content-length', 0))\n",
        "\n",
        "    # Initialize the progress bar\n",
        "    progress_bar = tqdm(total=total_size, unit='B', unit_scale=True)\n",
        "\n",
        "    # Download and save the content of the response with a progress bar\n",
        "    with open(file_name, 'wb') as file:\n",
        "        for data in response.iter_content(chunk_size=1024):\n",
        "            progress_bar.update(len(data))\n",
        "            file.write(data)\n",
        "\n",
        "    progress_bar.close()\n",
        "\n",
        "    print(f\"File downloaded to {file_name}\")\n",
        "else:\n",
        "    print(f\"Failed to download the file. Status code: {response.status_code}\")\n"
      ],
      "metadata": {
        "id": "VhArxggxO2_g",
        "outputId": "a241f8c0-b838-4aef-f957-c462914ad657",
        "colab": {
          "base_uri": "https://localhost:8080/"
        }
      },
      "execution_count": 2,
      "outputs": [
        {
          "output_type": "stream",
          "name": "stderr",
          "text": [
            "100%|██████████| 136M/136M [00:01<00:00, 77.5MB/s]"
          ]
        },
        {
          "output_type": "stream",
          "name": "stdout",
          "text": [
            "File downloaded to /content/downloads/code-stable-x64-1696981541.tar.gz\n"
          ]
        },
        {
          "output_type": "stream",
          "name": "stderr",
          "text": [
            "\n"
          ]
        }
      ]
    },
    {
      "cell_type": "code",
      "source": [
        "# ============================= FORM ============================= #\n",
        "#@markdown Giải nén file\n",
        "#@markdown\n",
        "archive_path = \"/content/downloads/code-stable-x64-1696981541.tar.gz\" #@param {type:\"string\"}\n",
        "extract_dir = \"/content/downloads/\" #@param {type:\"string\"}\n",
        "# ============================= FORM ============================= #\n",
        "\n",
        "\n",
        "import os\n",
        "import subprocess\n",
        "from tqdm import tqdm\n",
        "\n",
        "# Ensure the extraction directory exists\n",
        "os.makedirs(extract_dir, exist_ok=True)\n",
        "\n",
        "# Extract the archive using the system tar command\n",
        "command = [\"tar\", \"xzvf\", archive_path, \"-C\", extract_dir]\n",
        "\n",
        "# Get the total size of the archive\n",
        "total_size = os.path.getsize(archive_path)\n",
        "\n",
        "with tqdm(total=total_size, unit='B', unit_scale=True, unit_divisor=1024) as progress_bar:\n",
        "    process = subprocess.Popen(command, stdout=subprocess.PIPE, stderr=subprocess.STDOUT, universal_newlines=True)\n",
        "\n",
        "    for line in process.stdout:\n",
        "        progress_bar.update(len(line.encode('utf-8')))\n",
        "\n",
        "    process.communicate()  # Wait for the process to finish\n",
        "\n",
        "    if process.returncode == 0:\n",
        "        print(f\"Extraction complete to {extract_dir}\")\n",
        "    else:\n",
        "        print(f\"Extraction failed. Return code: {process.returncode}\")\n"
      ],
      "metadata": {
        "cellView": "form",
        "id": "fbWv-JdVR7ZZ",
        "outputId": "b47a2e3a-21c1-404c-84f2-7892b7526782",
        "colab": {
          "base_uri": "https://localhost:8080/"
        }
      },
      "execution_count": 3,
      "outputs": [
        {
          "output_type": "stream",
          "name": "stderr",
          "text": [
            "  0%|          | 105k/130M [00:06<2:10:05, 17.4kB/s]"
          ]
        },
        {
          "output_type": "stream",
          "name": "stdout",
          "text": [
            "Extraction complete to /content/downloads/\n"
          ]
        },
        {
          "output_type": "stream",
          "name": "stderr",
          "text": [
            "\n"
          ]
        }
      ]
    },
    {
      "cell_type": "code",
      "source": [
        "# ============================= FORM ============================= #\n",
        "#@markdown Nén thư mục\n",
        "#@markdown\n",
        "folder_to_archive = \"/content/downloads/VSCode-linux-x64\" #@param {type:\"string\"}\n",
        "archive_path = \"/content/downloads/archive.tar.gz\" #@param {type:\"string\"}\n",
        "# ============================= FORM ============================= #\n",
        "\n",
        "\n",
        "import shutil\n",
        "import os\n",
        "from tqdm import tqdm\n",
        "\n",
        "\n",
        "# Create the archive using the system tar command\n",
        "command = [\"tar\", \"czvf\", archive_path, \"-C\", os.path.dirname(folder_to_archive), os.path.basename(folder_to_archive)]\n",
        "\n",
        "# Get the total size of the folder\n",
        "def get_folder_size(folder):\n",
        "    total_size = 0\n",
        "    for dirpath, _, filenames in os.walk(folder):\n",
        "        for filename in filenames:\n",
        "            filepath = os.path.join(dirpath, filename)\n",
        "            total_size += os.path.getsize(filepath)\n",
        "    return total_size\n",
        "\n",
        "total_size = get_folder_size(folder_to_archive)\n",
        "\n",
        "# Display a progress bar while creating the archive\n",
        "with tqdm(total=total_size, unit='B', unit_scale=True, unit_divisor=1024) as progress_bar:\n",
        "    process = subprocess.Popen(command, stdout=subprocess.PIPE, stderr=subprocess.STDOUT, universal_newlines=True)\n",
        "\n",
        "    for line in process.stdout:\n",
        "        progress_bar.update(len(line.encode('utf-8')))\n",
        "\n",
        "    process.communicate()  # Wait for the process to finish\n",
        "\n",
        "    if process.returncode == 0:\n",
        "        print(f\"Archive created at: {archive_path}\")\n",
        "    else:\n",
        "        print(f\"Archive creation failed. Return code: {process.returncode}\")"
      ],
      "metadata": {
        "cellView": "form",
        "id": "ayWTRBAFTi-O",
        "outputId": "fff8aa97-6f81-4cfc-8f57-61f0d5df14b0",
        "colab": {
          "base_uri": "https://localhost:8080/"
        }
      },
      "execution_count": 7,
      "outputs": [
        {
          "output_type": "stream",
          "name": "stderr",
          "text": [
            "  0%|          | 105k/366M [00:24<24:43:56, 4.31kB/s]"
          ]
        },
        {
          "output_type": "stream",
          "name": "stdout",
          "text": [
            "Archive created at: /content/downloads/archive.tar.gz\n"
          ]
        },
        {
          "output_type": "stream",
          "name": "stderr",
          "text": [
            "\n"
          ]
        }
      ]
    },
    {
      "cell_type": "code",
      "source": [
        "# ============================= FORM ============================= #\n",
        "#@markdown Sao chép\n",
        "#@markdown\n",
        "source = \"/content/downloads/VSCode-linux-x64\" #@param {type:\"string\"}\n",
        "destination = \"/content/vscode\" #@param {type:\"string\"}\n",
        "# ============================= FORM ============================= #\n",
        "\n",
        "\n",
        "import shutil\n",
        "import os\n",
        "from tqdm import tqdm\n",
        "\n",
        "# Copy the source to the destination\n",
        "shutil.copy(source, destination)\n"
      ],
      "metadata": {
        "cellView": "form",
        "id": "KeY3szhRUtTI"
      },
      "execution_count": null,
      "outputs": []
    },
    {
      "cell_type": "markdown",
      "source": [
        "# Git"
      ],
      "metadata": {
        "id": "t9CQKf3aVdy7"
      }
    },
    {
      "cell_type": "code",
      "source": [
        "# ============================= FORM ============================= #\n",
        "#@markdown Clone repo\n",
        "#@markdown\n",
        "repo_url = \"https://github.com/pnstack/colab-starter.git\" #@param {type:\"string\"}\n",
        "clone_directory = \"/content/source\" #@param {type:\"string\"}\n",
        "\n",
        "# ============================= FORM ============================= #\n",
        "\n",
        "\n",
        "import subprocess\n",
        "\n",
        "\n",
        "# Run the Git clone command\n",
        "try:\n",
        "    subprocess.run(['git', 'clone', repo_url, clone_directory], check=True)\n",
        "    print(f\"Repository cloned to {clone_directory}\")\n",
        "except subprocess.CalledProcessError as e:\n",
        "    print(f\"Error: {e}\")"
      ],
      "metadata": {
        "cellView": "form",
        "id": "PE8WiIHjVdIm",
        "outputId": "9e6b14f8-83fa-4f9f-a991-73d07a96b9c3",
        "colab": {
          "base_uri": "https://localhost:8080/"
        }
      },
      "execution_count": 9,
      "outputs": [
        {
          "output_type": "stream",
          "name": "stdout",
          "text": [
            "Repository cloned to /content/source\n"
          ]
        }
      ]
    }
  ]
}